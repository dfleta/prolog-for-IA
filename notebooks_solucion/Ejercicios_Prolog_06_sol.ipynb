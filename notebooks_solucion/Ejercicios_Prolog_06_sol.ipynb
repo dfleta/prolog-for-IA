{
 "cells": [
  {
   "cell_type": "markdown",
   "id": "ff801d70-e535-465b-8885-8196c5e54d3b",
   "metadata": {},
   "source": [
    "1. Escribe un objetivo de Prolog, utilizando `conc`, para borrar los últimos tres elementos de la lista `L`, produciendo una nueva lista `L1`."
   ]
  },
  {
   "cell_type": "code",
   "execution_count": 2,
   "id": "7dd795ef-a499-427a-af94-505ae45312e7",
   "metadata": {},
   "outputs": [
    {
     "data": {
      "text/plain": [
       "% Asserting clauses for user:conc/3\n"
      ]
     },
     "metadata": {},
     "output_type": "display_data"
    }
   ],
   "source": [
    "conc([], L, L).\n",
    "conc([X | L1], L2, [X | L3]) :- conc(L1, L2, L3)."
   ]
  },
  {
   "cell_type": "code",
   "execution_count": 12,
   "id": "b0214448-f2bf-4c39-9006-5a8ca63ded0f",
   "metadata": {},
   "outputs": [
    {
     "data": {
      "text/plain": [
       "\u001b[1mL1 = [a]"
      ]
     },
     "metadata": {},
     "output_type": "display_data"
    }
   ],
   "source": [
    "% conc(L1, [_, _, _], L).\n",
    "?- conc(L1, [_, _, _], [a, b, c, d])."
   ]
  },
  {
   "cell_type": "markdown",
   "id": "ce9e986d-6ec1-4cd8-8686-5e1fcad51ef0",
   "metadata": {},
   "source": [
    "2. Escribe un objetivo, utilizando `conc`, para borrar los tres primeros elementos de una lista `L`, produciendo la lista `L2`."
   ]
  },
  {
   "cell_type": "code",
   "execution_count": 16,
   "id": "ad558b40-0c83-498c-8e04-ebed6e90a3d5",
   "metadata": {},
   "outputs": [
    {
     "data": {
      "text/plain": [
       "\u001b[1mL2 = [],\n",
       "L = [_2366,_2368,_2370,_2374,_2376,_2378]"
      ]
     },
     "metadata": {},
     "output_type": "display_data"
    }
   ],
   "source": [
    "?- conc([_, _, _ | L2], [_, _, _], L).\n"
   ]
  },
  {
   "cell_type": "markdown",
   "id": "59327d43-1bd4-4fca-a6e0-e49d38966b1e",
   "metadata": {},
   "source": [
    "3. Define la relación `ultimo(Item, Lista)`, de tal modo que `Item` sea el último elemento de la lista `Lista`. Se piden dos versiones, una usando `conc` y la otra sin usarlo."
   ]
  },
  {
   "cell_type": "code",
   "execution_count": null,
   "id": "07aa32e4-7e46-4706-a822-435e48e0958f",
   "metadata": {},
   "outputs": [
    {
     "data": {
      "text/html": [
       "\n",
       "            <style>\n",
       "            details  {\n",
       "              font-family: Menlo, Consolas, 'DejaVu Sans Mono', monospace; font-size: 13px;\n",
       "            }\n",
       "\n",
       "            details > summary {\n",
       "              cursor: pointer;\n",
       "            }\n",
       "            </style>\n",
       "            <details><summary>Previously defined clauses of user:ultimo/2 were retracted (click to expand)</summary><pre>:- dynamic ultimo/2.\n",
       "\n",
       "ultimo(_, []).\n",
       "ultimo(A, [_|B]) :-\n",
       "    ultimo(A, B).\n",
       "</pre></details>"
      ],
      "text/plain": [
       "Previously defined clauses of user:ultimo/2 were retracted:\n",
       ":- dynamic ultimo/2.\n",
       "\n",
       "ultimo(_, []).\n",
       "ultimo(A, [_|B]) :-\n",
       "    ultimo(A, B).\n"
      ]
     },
     "metadata": {
      "application/json": {}
     },
     "output_type": "display_data"
    },
    {
     "data": {
      "text/plain": [
       "% Asserting clauses for user:ultimo/2\n"
      ]
     },
     "metadata": {},
     "output_type": "display_data"
    },
    {
     "data": {
      "text/plain": [
       "\u001b[1mtrue"
      ]
     },
     "metadata": {},
     "output_type": "display_data"
    },
    {
     "data": {
      "text/plain": [
       "\u001b[1;31mfalse"
      ]
     },
     "metadata": {},
     "output_type": "display_data"
    }
   ],
   "source": [
    "ultimo(Item, Lista) :- conc(_, [Item], Lista).\n",
    "?- ultimo(d, [a, b, c, d]).\n",
    "?- ultimo(a, [a, b, c, d])."
   ]
  },
  {
   "cell_type": "code",
   "execution_count": null,
   "id": "69af067a-8e13-469f-bb85-2c14ea379f3b",
   "metadata": {},
   "outputs": [
    {
     "data": {
      "text/html": [
       "\n",
       "            <style>\n",
       "            details  {\n",
       "              font-family: Menlo, Consolas, 'DejaVu Sans Mono', monospace; font-size: 13px;\n",
       "            }\n",
       "\n",
       "            details > summary {\n",
       "              cursor: pointer;\n",
       "            }\n",
       "            </style>\n",
       "            <details><summary>Previously defined clauses of user:ultimor/2 were retracted (click to expand)</summary><pre>:- dynamic ultimor/2.\n",
       "\n",
       "ultimor(_, []).\n",
       "ultimor(A, [_|B]) :-\n",
       "    ultimor(A, B).\n",
       "</pre></details>"
      ],
      "text/plain": [
       "Previously defined clauses of user:ultimor/2 were retracted:\n",
       ":- dynamic ultimor/2.\n",
       "\n",
       "ultimor(_, []).\n",
       "ultimor(A, [_|B]) :-\n",
       "    ultimor(A, B).\n"
      ]
     },
     "metadata": {
      "application/json": {}
     },
     "output_type": "display_data"
    },
    {
     "data": {
      "text/plain": [
       "% Asserting clauses for user:ultimor/2\n"
      ]
     },
     "metadata": {},
     "output_type": "display_data"
    }
   ],
   "source": [
    "ultimor(Item, []).\n",
    "ultimor(Item, [X | Resto]) :- ultimor(Item, Resto).\n",
    "\n",
    "?- ultimo(d, [a, b, c, d]).\n",
    "?- ultimo(a, [a, b, c, d])."
   ]
  },
  {
   "cell_type": "markdown",
   "id": "83da3ec8-5c24-41af-8150-be7b6855baa6",
   "metadata": {},
   "source": [
    "4. Define dos predicados `listapar(Lista)` y `listaimpar(Lista)` que sean verdaderos cuando una lista tenga un número par o impar de elementos, respectivamente."
   ]
  },
  {
   "cell_type": "code",
   "execution_count": null,
   "id": "59013afe-bbba-4c83-a86d-440378353e37",
   "metadata": {},
   "outputs": [
    {
     "data": {
      "text/html": [
       "\n",
       "            <style>\n",
       "            details  {\n",
       "              font-family: Menlo, Consolas, 'DejaVu Sans Mono', monospace; font-size: 13px;\n",
       "            }\n",
       "\n",
       "            details > summary {\n",
       "              cursor: pointer;\n",
       "            }\n",
       "            </style>\n",
       "            <details><summary>Previously defined clauses of user:listapar/1 were retracted (click to expand)</summary><pre>:- dynamic listapar/1.\n",
       "\n",
       "listapar([]).\n",
       "listapar([_|A]) :-\n",
       "    listaimpar(A).\n",
       "</pre></details>"
      ],
      "text/plain": [
       "Previously defined clauses of user:listapar/1 were retracted:\n",
       ":- dynamic listapar/1.\n",
       "\n",
       "listapar([]).\n",
       "listapar([_|A]) :-\n",
       "    listaimpar(A).\n"
      ]
     },
     "metadata": {
      "application/json": {}
     },
     "output_type": "display_data"
    },
    {
     "data": {
      "text/plain": [
       "% Asserting clauses for user:listapar/1\n"
      ]
     },
     "metadata": {},
     "output_type": "display_data"
    },
    {
     "data": {
      "text/html": [
       "\n",
       "            <style>\n",
       "            details  {\n",
       "              font-family: Menlo, Consolas, 'DejaVu Sans Mono', monospace; font-size: 13px;\n",
       "            }\n",
       "\n",
       "            details > summary {\n",
       "              cursor: pointer;\n",
       "            }\n",
       "            </style>\n",
       "            <details><summary>Previously defined clauses of user:listaimpar/1 were retracted (click to expand)</summary><pre>:- dynamic listaimpar/1.\n",
       "\n",
       "listaimpar([_|A]) :-\n",
       "    listapar(A).\n",
       "</pre></details>"
      ],
      "text/plain": [
       "Previously defined clauses of user:listaimpar/1 were retracted:\n",
       ":- dynamic listaimpar/1.\n",
       "\n",
       "listaimpar([_|A]) :-\n",
       "    listapar(A).\n"
      ]
     },
     "metadata": {
      "application/json": {}
     },
     "output_type": "display_data"
    },
    {
     "data": {
      "text/plain": [
       "% Asserting clauses for user:listaimpar/1\n"
      ]
     },
     "metadata": {},
     "output_type": "display_data"
    },
    {
     "data": {
      "text/plain": [
       "\u001b[1mtrue"
      ]
     },
     "metadata": {},
     "output_type": "display_data"
    },
    {
     "data": {
      "text/plain": [
       "\u001b[1;31mfalse"
      ]
     },
     "metadata": {},
     "output_type": "display_data"
    },
    {
     "data": {
      "text/plain": [
       "\u001b[1mtrue"
      ]
     },
     "metadata": {},
     "output_type": "display_data"
    }
   ],
   "source": [
    "listapar([]).\n",
    "listapar([Head | Tail]) :- listaimpar(Tail).\n",
    "listaimpar([Head | Tail]) :- listapar(Tail).\n",
    "\n",
    "?- listapar([a, b, c, d]).\n",
    "?- listaimpar([a, b, c, d]).\n",
    "?- listaimpar([a, b, c, d, e])."
   ]
  },
  {
   "cell_type": "markdown",
   "id": "e7ef54e1-7cc4-4977-bc41-a43d1b37ae57",
   "metadata": {},
   "source": [
    "5. Define la relación `invertir(Lista, ListaInvertida)` que invierte una lista, utilizando `conc`."
   ]
  },
  {
   "cell_type": "code",
   "execution_count": 43,
   "id": "0c600afe-dafd-401a-aaf8-cd4b2069f93c",
   "metadata": {},
   "outputs": [
    {
     "data": {
      "text/html": [
       "\n",
       "            <style>\n",
       "            details  {\n",
       "              font-family: Menlo, Consolas, 'DejaVu Sans Mono', monospace; font-size: 13px;\n",
       "            }\n",
       "\n",
       "            details > summary {\n",
       "              cursor: pointer;\n",
       "            }\n",
       "            </style>\n",
       "            <details><summary>Previously defined clauses of user:invertir/2 were retracted (click to expand)</summary><pre>:- dynamic invertir/2.\n",
       "\n",
       "invertir([], []).\n",
       "invertir([A|B], C) :-\n",
       "    invertir(B, D),\n",
       "    conc(D, [A], C).\n",
       "</pre></details>"
      ],
      "text/plain": [
       "Previously defined clauses of user:invertir/2 were retracted:\n",
       ":- dynamic invertir/2.\n",
       "\n",
       "invertir([], []).\n",
       "invertir([A|B], C) :-\n",
       "    invertir(B, D),\n",
       "    conc(D, [A], C).\n"
      ]
     },
     "metadata": {
      "application/json": {}
     },
     "output_type": "display_data"
    },
    {
     "data": {
      "text/plain": [
       "% Asserting clauses for user:invertir/2\n"
      ]
     },
     "metadata": {},
     "output_type": "display_data"
    },
    {
     "data": {
      "text/plain": [
       "\u001b[1mInvertida = [d,c,b,a]"
      ]
     },
     "metadata": {},
     "output_type": "display_data"
    }
   ],
   "source": [
    "invertir([], []).\n",
    "invertir([Head | Tail], Invertida) :-\n",
    "    invertir(Tail, TailInvertida),\n",
    "    conc(TailInvertida, [Head], Invertida).\n",
    "    \n",
    "?- invertir([a, b, c, d], Invertida)."
   ]
  },
  {
   "cell_type": "markdown",
   "id": "dc0a1bd5-77ce-4421-a730-901deca86fce",
   "metadata": {},
   "source": [
    "6. Define el predicado `palindromo(Lista)`. \n",
    "Una lista es un palíndromo si se lee igual en ambas direcciones, por ejemplo: [m,a,d,a,m]. Puedes usar la definición de la relación `invertir` del ejercicio anterior."
   ]
  },
  {
   "cell_type": "code",
   "execution_count": null,
   "id": "739a271f-40c2-4f33-8a63-0f801562ba11",
   "metadata": {},
   "outputs": [
    {
     "data": {
      "text/html": [
       "\n",
       "            <style>\n",
       "            details  {\n",
       "              font-family: Menlo, Consolas, 'DejaVu Sans Mono', monospace; font-size: 13px;\n",
       "            }\n",
       "\n",
       "            details > summary {\n",
       "              cursor: pointer;\n",
       "            }\n",
       "            </style>\n",
       "            <details><summary>Previously defined clauses of user:palindromo/1 were retracted (click to expand)</summary><pre>:- dynamic palindromo/1.\n",
       "\n",
       "palindromo(A) :-\n",
       "    invertir(A, A).\n",
       "</pre></details>"
      ],
      "text/plain": [
       "Previously defined clauses of user:palindromo/1 were retracted:\n",
       ":- dynamic palindromo/1.\n",
       "\n",
       "palindromo(A) :-\n",
       "    invertir(A, A).\n"
      ]
     },
     "metadata": {
      "application/json": {}
     },
     "output_type": "display_data"
    },
    {
     "data": {
      "text/plain": [
       "% Asserting clauses for user:palindromo/1\n"
      ]
     },
     "metadata": {},
     "output_type": "display_data"
    },
    {
     "data": {
      "text/plain": [
       "\u001b[1mtrue"
      ]
     },
     "metadata": {},
     "output_type": "display_data"
    },
    {
     "data": {
      "text/plain": [
       "\u001b[1;31mfalse"
      ]
     },
     "metadata": {},
     "output_type": "display_data"
    }
   ],
   "source": [
    "palindromo(L) :- invertir(L, L).\n",
    "\n",
    "?- palindromo([m,a,d,a,m]).\n",
    "?- palindromo([c,a,r,a,s])."
   ]
  },
  {
   "cell_type": "code",
   "execution_count": null,
   "id": "eed180ba-62b4-4b04-b1d0-16200f2463e0",
   "metadata": {},
   "outputs": [
    {
     "data": {
      "text/html": [
       "\n",
       "            <style>\n",
       "            details  {\n",
       "              font-family: Menlo, Consolas, 'DejaVu Sans Mono', monospace; font-size: 13px;\n",
       "            }\n",
       "\n",
       "            details > summary {\n",
       "              cursor: pointer;\n",
       "            }\n",
       "            </style>\n",
       "            <details><summary>Previously defined clauses of user:palindrome/1 were retracted (click to expand)</summary><pre>:- dynamic palindrome/1.\n",
       "\n",
       "palindrome([]).\n",
       "palindrome([_]).\n",
       "palindrome(A) :-\n",
       "    conc([B|C], [B], A),\n",
       "    palindrome(C).\n",
       "</pre></details>"
      ],
      "text/plain": [
       "Previously defined clauses of user:palindrome/1 were retracted:\n",
       ":- dynamic palindrome/1.\n",
       "\n",
       "palindrome([]).\n",
       "palindrome([_]).\n",
       "palindrome(A) :-\n",
       "    conc([B|C], [B], A),\n",
       "    palindrome(C).\n"
      ]
     },
     "metadata": {
      "application/json": {}
     },
     "output_type": "display_data"
    },
    {
     "data": {
      "text/plain": [
       "% Asserting clauses for user:palindrome/1\n"
      ]
     },
     "metadata": {},
     "output_type": "display_data"
    },
    {
     "data": {
      "text/plain": [
       "\u001b[1mtrue"
      ]
     },
     "metadata": {},
     "output_type": "display_data"
    },
    {
     "data": {
      "text/plain": [
       "\u001b[1;31mfalse"
      ]
     },
     "metadata": {},
     "output_type": "display_data"
    }
   ],
   "source": [
    "palindrome([]).\n",
    "palindrome([_]).\n",
    "palindrome(L) :- \n",
    "    conc([X | Medio], [X], L),\n",
    "    palindrome(Medio).\n",
    "    \n",
    "?- palindrome([m,a,d,a,m]).\n",
    "?- palindrome([c,a,r,a,s])."
   ]
  },
  {
   "cell_type": "markdown",
   "id": "cab0c507-2c11-4c8a-a4d0-22167cee6224",
   "metadata": {},
   "source": [
    "7. Define la relación `maximo(X, Y, Max)` en la que máximo es el valor más alto de `X` e `Y`."
   ]
  },
  {
   "cell_type": "code",
   "execution_count": 52,
   "id": "778d94c2-6571-44a7-bf5a-eec7128f05c9",
   "metadata": {},
   "outputs": [
    {
     "data": {
      "text/html": [
       "\n",
       "            <style>\n",
       "            details  {\n",
       "              font-family: Menlo, Consolas, 'DejaVu Sans Mono', monospace; font-size: 13px;\n",
       "            }\n",
       "\n",
       "            details > summary {\n",
       "              cursor: pointer;\n",
       "            }\n",
       "            </style>\n",
       "            <details><summary>Previously defined clauses of user:maximo/3 were retracted (click to expand)</summary><pre>:- dynamic maximo/3.\n",
       "\n",
       "maximo(A, B, A) :-\n",
       "    A>=B.\n",
       "maximo(A, B, B) :-\n",
       "    B<A.\n",
       "</pre></details>"
      ],
      "text/plain": [
       "Previously defined clauses of user:maximo/3 were retracted:\n",
       ":- dynamic maximo/3.\n",
       "\n",
       "maximo(A, B, A) :-\n",
       "    A>=B.\n",
       "maximo(A, B, B) :-\n",
       "    B<A.\n"
      ]
     },
     "metadata": {
      "application/json": {}
     },
     "output_type": "display_data"
    },
    {
     "data": {
      "text/plain": [
       "% Asserting clauses for user:maximo/3\n"
      ]
     },
     "metadata": {},
     "output_type": "display_data"
    },
    {
     "data": {
      "text/plain": [
       "\u001b[1mMax = 5"
      ]
     },
     "metadata": {},
     "output_type": "display_data"
    },
    {
     "data": {
      "text/plain": [
       "\u001b[1mMax = 10"
      ]
     },
     "metadata": {},
     "output_type": "display_data"
    }
   ],
   "source": [
    "maximo(X, Y, X) :-\n",
    "    X >= Y.\n",
    "maximo(X, Y, Y) :-\n",
    "    X < Y.\n",
    "    \n",
    "?- maximo(5, 0, Max).\n",
    "?- maximo(5, 10, Max)."
   ]
  },
  {
   "cell_type": "markdown",
   "id": "619c5b2d-cd90-48c2-bd2a-3453425ec524",
   "metadata": {},
   "source": [
    "8. Define el predicado `sumarlista(Lista, Suma)` que obtiene la suma de los elementos numéricos de la lista."
   ]
  },
  {
   "cell_type": "code",
   "execution_count": 55,
   "id": "c00b0135-b975-4d53-90e2-3f949f10052c",
   "metadata": {},
   "outputs": [
    {
     "data": {
      "text/html": [
       "\n",
       "            <style>\n",
       "            details  {\n",
       "              font-family: Menlo, Consolas, 'DejaVu Sans Mono', monospace; font-size: 13px;\n",
       "            }\n",
       "\n",
       "            details > summary {\n",
       "              cursor: pointer;\n",
       "            }\n",
       "            </style>\n",
       "            <details><summary>Previously defined clauses of user:sumarlista/2 were retracted (click to expand)</summary><pre>:- dynamic sumarlista/2.\n",
       "\n",
       "sumarlista([], 0).\n",
       "sumarlista([A|B], C) :-\n",
       "    sumarlista(B, D),\n",
       "    C is A+D.\n",
       "</pre></details>"
      ],
      "text/plain": [
       "Previously defined clauses of user:sumarlista/2 were retracted:\n",
       ":- dynamic sumarlista/2.\n",
       "\n",
       "sumarlista([], 0).\n",
       "sumarlista([A|B], C) :-\n",
       "    sumarlista(B, D),\n",
       "    C is A+D.\n"
      ]
     },
     "metadata": {
      "application/json": {}
     },
     "output_type": "display_data"
    },
    {
     "data": {
      "text/plain": [
       "% Asserting clauses for user:sumarlista/2\n"
      ]
     },
     "metadata": {},
     "output_type": "display_data"
    },
    {
     "data": {
      "text/plain": [
       "\u001b[1mSuma = 3"
      ]
     },
     "metadata": {},
     "output_type": "display_data"
    }
   ],
   "source": [
    "sumarlista([], 0).\n",
    "sumarlista([X | Resto], Suma) :-\n",
    "    sumarlista(Resto, SumaResto),\n",
    "    Suma is X + SumaResto.\n",
    "    \n",
    "?- sumarlista([1, 1, 1], Suma)."
   ]
  }
 ],
 "metadata": {
  "kernelspec": {
   "display_name": "Prolog",
   "language": "prolog",
   "name": "prolog_kernel"
  },
  "language_info": {
   "codemirror_mode": "prolog",
   "file_extension": ".pl",
   "mimetype": "text/x-prolog",
   "name": "Prolog"
  }
 },
 "nbformat": 4,
 "nbformat_minor": 5
}
