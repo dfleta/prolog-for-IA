{
 "cells": [
  {
   "cell_type": "markdown",
   "id": "4450e829-c1ba-4b06-a4ac-4f4521ccff83",
   "metadata": {},
   "source": [
    "## Dados los hechos y las reglas:"
   ]
  },
  {
   "cell_type": "code",
   "execution_count": 36,
   "id": "357307d0-60ef-402e-a17e-9360ca256578",
   "metadata": {},
   "outputs": [
    {
     "data": {
      "text/html": [
       "\n",
       "            <style>\n",
       "            details  {\n",
       "              font-family: Menlo, Consolas, 'DejaVu Sans Mono', monospace; font-size: 13px;\n",
       "            }\n",
       "\n",
       "            details > summary {\n",
       "              cursor: pointer;\n",
       "            }\n",
       "            </style>\n",
       "            <details><summary>Previously defined clauses of user:female/1 were retracted (click to expand)</summary><pre>:- dynamic female/1.\n",
       "\n",
       "female(pam).\n",
       "female(liz).\n",
       "female(pat).\n",
       "female(ann).\n",
       "</pre></details>"
      ],
      "text/plain": [
       "Previously defined clauses of user:female/1 were retracted:\n",
       ":- dynamic female/1.\n",
       "\n",
       "female(pam).\n",
       "female(liz).\n",
       "female(pat).\n",
       "female(ann).\n"
      ]
     },
     "metadata": {
      "application/json": {}
     },
     "output_type": "display_data"
    },
    {
     "data": {
      "text/plain": [
       "% Asserting clauses for user:female/1\n"
      ]
     },
     "metadata": {},
     "output_type": "display_data"
    },
    {
     "data": {
      "text/html": [
       "\n",
       "            <style>\n",
       "            details  {\n",
       "              font-family: Menlo, Consolas, 'DejaVu Sans Mono', monospace; font-size: 13px;\n",
       "            }\n",
       "\n",
       "            details > summary {\n",
       "              cursor: pointer;\n",
       "            }\n",
       "            </style>\n",
       "            <details><summary>Previously defined clauses of user:male/1 were retracted (click to expand)</summary><pre>:- dynamic male/1.\n",
       "\n",
       "male(tom).\n",
       "male(bob).\n",
       "male(jim).\n",
       "</pre></details>"
      ],
      "text/plain": [
       "Previously defined clauses of user:male/1 were retracted:\n",
       ":- dynamic male/1.\n",
       "\n",
       "male(tom).\n",
       "male(bob).\n",
       "male(jim).\n"
      ]
     },
     "metadata": {
      "application/json": {}
     },
     "output_type": "display_data"
    },
    {
     "data": {
      "text/plain": [
       "% Asserting clauses for user:male/1\n"
      ]
     },
     "metadata": {},
     "output_type": "display_data"
    },
    {
     "data": {
      "text/html": [
       "\n",
       "            <style>\n",
       "            details  {\n",
       "              font-family: Menlo, Consolas, 'DejaVu Sans Mono', monospace; font-size: 13px;\n",
       "            }\n",
       "\n",
       "            details > summary {\n",
       "              cursor: pointer;\n",
       "            }\n",
       "            </style>\n",
       "            <details><summary>Previously defined clauses of user:parent/2 were retracted (click to expand)</summary><pre>:- dynamic parent/2.\n",
       "\n",
       "parent(pam, bob).\n",
       "parent(tom, bob).\n",
       "parent(tom, liz).\n",
       "parent(bob, ann).\n",
       "parent(bob, pat).\n",
       "parent(pat, jim).\n",
       "</pre></details>"
      ],
      "text/plain": [
       "Previously defined clauses of user:parent/2 were retracted:\n",
       ":- dynamic parent/2.\n",
       "\n",
       "parent(pam, bob).\n",
       "parent(tom, bob).\n",
       "parent(tom, liz).\n",
       "parent(bob, ann).\n",
       "parent(bob, pat).\n",
       "parent(pat, jim).\n"
      ]
     },
     "metadata": {
      "application/json": {}
     },
     "output_type": "display_data"
    },
    {
     "data": {
      "text/plain": [
       "% Asserting clauses for user:parent/2\n"
      ]
     },
     "metadata": {},
     "output_type": "display_data"
    }
   ],
   "source": [
    "% hechos\n",
    "\n",
    "female(pam).\n",
    "female(liz).\n",
    "female(pat).\n",
    "female(ann).\n",
    "\n",
    "male(tom).\n",
    "male(bob).\n",
    "male(jim).\n",
    "\n",
    "parent(pam,bob).\n",
    "parent(tom,bob).\n",
    "parent(tom,liz).\n",
    "parent(bob,ann).\n",
    "parent(bob,pat).\n",
    "parent(pat,jim)."
   ]
  },
  {
   "cell_type": "code",
   "execution_count": 37,
   "id": "f889ef5c-39db-4446-a0c0-524fd8a162bc",
   "metadata": {},
   "outputs": [
    {
     "data": {
      "text/html": [
       "\n",
       "            <style>\n",
       "            details  {\n",
       "              font-family: Menlo, Consolas, 'DejaVu Sans Mono', monospace; font-size: 13px;\n",
       "            }\n",
       "\n",
       "            details > summary {\n",
       "              cursor: pointer;\n",
       "            }\n",
       "            </style>\n",
       "            <details><summary>Previously defined clauses of user:mother/2 were retracted (click to expand)</summary><pre>:- dynamic mother/2.\n",
       "\n",
       "mother(A, B) :-\n",
       "    parent(A, B),\n",
       "    female(A).\n",
       "</pre></details>"
      ],
      "text/plain": [
       "Previously defined clauses of user:mother/2 were retracted:\n",
       ":- dynamic mother/2.\n",
       "\n",
       "mother(A, B) :-\n",
       "    parent(A, B),\n",
       "    female(A).\n"
      ]
     },
     "metadata": {
      "application/json": {}
     },
     "output_type": "display_data"
    },
    {
     "data": {
      "text/plain": [
       "% Asserting clauses for user:mother/2\n"
      ]
     },
     "metadata": {},
     "output_type": "display_data"
    },
    {
     "data": {
      "text/html": [
       "\n",
       "            <style>\n",
       "            details  {\n",
       "              font-family: Menlo, Consolas, 'DejaVu Sans Mono', monospace; font-size: 13px;\n",
       "            }\n",
       "\n",
       "            details > summary {\n",
       "              cursor: pointer;\n",
       "            }\n",
       "            </style>\n",
       "            <details><summary>Previously defined clauses of user:grandparent/2 were retracted (click to expand)</summary><pre>:- dynamic grandparent/2.\n",
       "\n",
       "grandparent(A, B) :-\n",
       "    parent(A, C),\n",
       "    parent(C, B).\n",
       "</pre></details>"
      ],
      "text/plain": [
       "Previously defined clauses of user:grandparent/2 were retracted:\n",
       ":- dynamic grandparent/2.\n",
       "\n",
       "grandparent(A, B) :-\n",
       "    parent(A, C),\n",
       "    parent(C, B).\n"
      ]
     },
     "metadata": {
      "application/json": {}
     },
     "output_type": "display_data"
    },
    {
     "data": {
      "text/plain": [
       "% Asserting clauses for user:grandparent/2\n"
      ]
     },
     "metadata": {},
     "output_type": "display_data"
    },
    {
     "data": {
      "text/html": [
       "\n",
       "            <style>\n",
       "            details  {\n",
       "              font-family: Menlo, Consolas, 'DejaVu Sans Mono', monospace; font-size: 13px;\n",
       "            }\n",
       "\n",
       "            details > summary {\n",
       "              cursor: pointer;\n",
       "            }\n",
       "            </style>\n",
       "            <details><summary>Previously defined clauses of user:sister/2 were retracted (click to expand)</summary><pre>:- dynamic sister/2.\n",
       "\n",
       "sister(A, B) :-\n",
       "    parent(C, A),\n",
       "    parent(C, B),\n",
       "    female(A),\n",
       "    A\\=B.\n",
       "</pre></details>"
      ],
      "text/plain": [
       "Previously defined clauses of user:sister/2 were retracted:\n",
       ":- dynamic sister/2.\n",
       "\n",
       "sister(A, B) :-\n",
       "    parent(C, A),\n",
       "    parent(C, B),\n",
       "    female(A),\n",
       "    A\\=B.\n"
      ]
     },
     "metadata": {
      "application/json": {}
     },
     "output_type": "display_data"
    },
    {
     "data": {
      "text/plain": [
       "% Asserting clauses for user:sister/2\n"
      ]
     },
     "metadata": {},
     "output_type": "display_data"
    }
   ],
   "source": [
    "% reglas\n",
    "\n",
    "mother(X,Y) :- \n",
    "        parent(X,Y),\n",
    "        female(X).\n",
    "\n",
    "grandparent(X,Z) :- \n",
    "        parent(X,Y),\n",
    "        parent(Y,Z).\n",
    "\n",
    "sister(X,Y) :-  \n",
    "          parent(Z,X),\n",
    "          parent(Z,Y),\n",
    "          female(X),\n",
    "          X \\= Y."
   ]
  },
  {
   "cell_type": "markdown",
   "id": "e2184bfb-a0dc-4051-b96b-4545873e4ab8",
   "metadata": {},
   "source": [
    "## Explica cómo encontraría Prolog solución a las siguientes cuestiones:"
   ]
  },
  {
   "cell_type": "code",
   "execution_count": 38,
   "id": "08c94661-5679-4f1f-a393-cd422b226698",
   "metadata": {},
   "outputs": [
    {
     "data": {
      "text/plain": [
       "\u001b[1mtrue"
      ]
     },
     "metadata": {},
     "output_type": "display_data"
    }
   ],
   "source": [
    "?- parent(pam, bob)."
   ]
  },
  {
   "cell_type": "code",
   "execution_count": 39,
   "id": "dd3088a0-527f-4444-a84b-7da263591cab",
   "metadata": {},
   "outputs": [
    {
     "data": {
      "text/plain": [
       "   Call: (93) parent(pam, bob)\n",
       "   Exit: (93) parent(pam, bob)"
      ]
     },
     "metadata": {},
     "output_type": "display_data"
    },
    {
     "data": {
      "text/plain": [
       "\u001b[1mtrue"
      ]
     },
     "metadata": {},
     "output_type": "display_data"
    }
   ],
   "source": [
    "jupyter:trace(parent(pam, bob))."
   ]
  },
  {
   "cell_type": "code",
   "execution_count": 40,
   "id": "98806585-9e34-47a1-9fa7-1d74d8a772ec",
   "metadata": {},
   "outputs": [
    {
     "data": {
      "text/plain": [
       "\u001b[1mtrue"
      ]
     },
     "metadata": {},
     "output_type": "display_data"
    }
   ],
   "source": [
    "?- mother(pam, bob)."
   ]
  },
  {
   "cell_type": "code",
   "execution_count": 41,
   "id": "3472da85-eccd-48ee-acf6-d5624ea7ded9",
   "metadata": {},
   "outputs": [
    {
     "data": {
      "text/plain": [
       "   Call: (109) mother(pam, bob)\n",
       "   Call: (110) parent(pam, bob)\n",
       "   Exit: (110) parent(pam, bob)\n",
       "   Call: (110) female(pam)\n",
       "   Exit: (110) female(pam)\n",
       "   Exit: (109) mother(pam, bob)"
      ]
     },
     "metadata": {},
     "output_type": "display_data"
    },
    {
     "data": {
      "text/plain": [
       "\u001b[1mtrue"
      ]
     },
     "metadata": {},
     "output_type": "display_data"
    }
   ],
   "source": [
    "jupyter:trace(mother(pam, bob))."
   ]
  },
  {
   "cell_type": "code",
   "execution_count": 42,
   "id": "a54a74e3-322b-4212-9507-1ffc04118c55",
   "metadata": {},
   "outputs": [
    {
     "data": {
      "text/plain": [
       "\u001b[1mtrue"
      ]
     },
     "metadata": {},
     "output_type": "display_data"
    }
   ],
   "source": [
    "?- grandparent(pam, ann)."
   ]
  },
  {
   "cell_type": "code",
   "execution_count": 43,
   "id": "aa360018-3be0-4592-809e-76c884b1f2c8",
   "metadata": {},
   "outputs": [
    {
     "data": {
      "text/plain": [
       "   Call: (125) grandparent(pam, ann)\n",
       "   Call: (126) parent(pam, _20360)\n",
       "   Exit: (126) parent(pam, bob)\n",
       "   Call: (126) parent(bob, ann)\n",
       "   Exit: (126) parent(bob, ann)\n",
       "   Exit: (125) grandparent(pam, ann)"
      ]
     },
     "metadata": {},
     "output_type": "display_data"
    },
    {
     "data": {
      "text/plain": [
       "\u001b[1mtrue"
      ]
     },
     "metadata": {},
     "output_type": "display_data"
    }
   ],
   "source": [
    "jupyter:trace(grandparent(pam, ann))."
   ]
  },
  {
   "cell_type": "code",
   "execution_count": 44,
   "id": "e7a65c8c-3ce2-44b8-ac11-c5380b3c0c45",
   "metadata": {},
   "outputs": [
    {
     "data": {
      "text/plain": [
       "\u001b[1mtrue"
      ]
     },
     "metadata": {},
     "output_type": "display_data"
    }
   ],
   "source": [
    "?- grandparent(bob, jim)."
   ]
  },
  {
   "cell_type": "code",
   "execution_count": 45,
   "id": "ac49c7c5-b775-403d-9e67-9b0b13c05463",
   "metadata": {},
   "outputs": [
    {
     "data": {
      "text/plain": [
       "   Call: (141) grandparent(bob, jim)\n",
       "   Call: (142) parent(bob, _31126)\n",
       "   Exit: (142) parent(bob, ann)\n",
       "   Call: (142) parent(ann, jim)\n",
       "   Fail: (142) parent(ann, jim)\n",
       "   Redo: (142) parent(bob, _1130)\n",
       "   Exit: (142) parent(bob, pat)\n",
       "   Call: (142) parent(pat, jim)\n",
       "   Exit: (142) parent(pat, jim)\n",
       "   Exit: (141) grandparent(bob, jim)"
      ]
     },
     "metadata": {},
     "output_type": "display_data"
    },
    {
     "data": {
      "text/plain": [
       "\u001b[1mtrue"
      ]
     },
     "metadata": {},
     "output_type": "display_data"
    }
   ],
   "source": [
    "jupyter:trace(grandparent(bob, jim))."
   ]
  }
 ],
 "metadata": {
  "kernelspec": {
   "display_name": "Prolog",
   "language": "prolog",
   "name": "prolog_kernel"
  },
  "language_info": {
   "codemirror_mode": "prolog",
   "file_extension": ".pl",
   "mimetype": "text/x-prolog",
   "name": "Prolog"
  }
 },
 "nbformat": 4,
 "nbformat_minor": 5
}
