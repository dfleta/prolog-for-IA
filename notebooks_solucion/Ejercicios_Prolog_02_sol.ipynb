{
 "cells": [
  {
   "cell_type": "markdown",
   "id": "e2533586-176a-493a-9eb6-831c104ff655",
   "metadata": {},
   "source": [
    "## Dados los hechos"
   ]
  },
  {
   "cell_type": "code",
   "execution_count": 7,
   "id": "03e7943d-dfe1-443a-98fc-757e6c70d767",
   "metadata": {},
   "outputs": [
    {
     "data": {
      "text/plain": [
       "% Asserting clauses for user:female/1\n"
      ]
     },
     "metadata": {},
     "output_type": "display_data"
    },
    {
     "data": {
      "text/plain": [
       "% Asserting clauses for user:male/1\n"
      ]
     },
     "metadata": {},
     "output_type": "display_data"
    },
    {
     "data": {
      "text/plain": [
       "% Asserting clauses for user:parent/2\n"
      ]
     },
     "metadata": {},
     "output_type": "display_data"
    }
   ],
   "source": [
    "% hechos\n",
    "\n",
    "female(pam).\n",
    "female(liz).\n",
    "female(pat).\n",
    "female(ann).\n",
    "\n",
    "male(tom).\n",
    "male(bob).\n",
    "male(jim).\n",
    "\n",
    "parent(pam,bob).\n",
    "parent(tom,bob).\n",
    "parent(tom,liz).\n",
    "parent(bob,ann).\n",
    "parent(bob,pat).\n",
    "parent(pat,jim)."
   ]
  },
  {
   "cell_type": "markdown",
   "id": "9955a0fe-e718-4839-a9bd-8ed3db49b727",
   "metadata": {},
   "source": [
    "## Define las siguientes relaciones:"
   ]
  },
  {
   "cell_type": "markdown",
   "id": "275226ab-29ed-406d-ae68-95cb9d316f0d",
   "metadata": {},
   "source": [
    "### La relación madre (en inglés):"
   ]
  },
  {
   "cell_type": "code",
   "execution_count": 4,
   "id": "719d7e78-6725-4a2b-aafd-0e9829985cac",
   "metadata": {},
   "outputs": [
    {
     "data": {
      "text/html": [
       "\n",
       "            <style>\n",
       "            details  {\n",
       "              font-family: Menlo, Consolas, 'DejaVu Sans Mono', monospace; font-size: 13px;\n",
       "            }\n",
       "\n",
       "            details > summary {\n",
       "              cursor: pointer;\n",
       "            }\n",
       "            </style>\n",
       "            <details><summary>Previously defined clauses of user:mother/2 were retracted (click to expand)</summary><pre>:- dynamic mother/2.\n",
       "\n",
       "mother(A, B) :-\n",
       "    parent(A, B),\n",
       "    female(A).\n",
       "</pre></details>"
      ],
      "text/plain": [
       "Previously defined clauses of user:mother/2 were retracted:\n",
       ":- dynamic mother/2.\n",
       "\n",
       "mother(A, B) :-\n",
       "    parent(A, B),\n",
       "    female(A).\n"
      ]
     },
     "metadata": {
      "application/json": {}
     },
     "output_type": "display_data"
    },
    {
     "data": {
      "text/plain": [
       "% Asserting clauses for user:mother/2\n"
      ]
     },
     "metadata": {},
     "output_type": "display_data"
    }
   ],
   "source": [
    "% tu código aquí\n",
    "mother(X, Y) :- \n",
    "        parent(X, Y),\n",
    "        female(X)."
   ]
  },
  {
   "cell_type": "code",
   "execution_count": 8,
   "id": "85d6575e-cd08-4368-9e44-28900e21e546",
   "metadata": {},
   "outputs": [
    {
     "data": {
      "text/plain": [
       "\u001b[1mX = pam"
      ]
     },
     "metadata": {},
     "output_type": "display_data"
    }
   ],
   "source": [
    "?- mother(X, bob)."
   ]
  },
  {
   "cell_type": "code",
   "execution_count": 10,
   "id": "7f19bef4-2c21-48d4-994a-d8048ff7ce46",
   "metadata": {},
   "outputs": [
    {
     "data": {
      "text/plain": [
       "\u001b[1mX = pam"
      ]
     },
     "metadata": {},
     "output_type": "display_data"
    }
   ],
   "source": [
    "?- mother(X, _)."
   ]
  },
  {
   "cell_type": "code",
   "execution_count": 11,
   "id": "dc43875c-4204-44a1-a441-5f7482935c9a",
   "metadata": {},
   "outputs": [
    {
     "data": {
      "text/plain": [
       "% Retrying goal: mother(X,_17110)\n"
      ]
     },
     "metadata": {},
     "output_type": "display_data"
    },
    {
     "data": {
      "text/plain": [
       "\u001b[1mX = pat"
      ]
     },
     "metadata": {},
     "output_type": "display_data"
    }
   ],
   "source": [
    "?- retry."
   ]
  },
  {
   "cell_type": "code",
   "execution_count": null,
   "id": "a6e4eb43-833f-4ed8-8afd-24bbd3cb1d5b",
   "metadata": {},
   "outputs": [
    {
     "data": {
      "text/plain": [
       "% Retrying goal: mother(X,_17110)\n"
      ]
     },
     "metadata": {},
     "output_type": "display_data"
    },
    {
     "data": {
      "text/plain": [
       "\u001b[1;31mfalse"
      ]
     },
     "metadata": {},
     "output_type": "display_data"
    }
   ],
   "source": [
    "?- retry."
   ]
  },
  {
   "cell_type": "markdown",
   "id": "ed6e49ca-154f-4f71-b3e8-c6b406ce90dc",
   "metadata": {},
   "source": [
    "### La relación abuelo:"
   ]
  },
  {
   "cell_type": "code",
   "execution_count": 14,
   "id": "a979d807-d02d-4380-93ff-7006c753f415",
   "metadata": {},
   "outputs": [
    {
     "data": {
      "text/plain": [
       "% Asserting clauses for user:grandparent/2\n"
      ]
     },
     "metadata": {},
     "output_type": "display_data"
    }
   ],
   "source": [
    "% tu código aquí\n",
    "grandparent(X,Z) :- \n",
    "        parent(X,Y),\n",
    "        parent(Y,Z)."
   ]
  },
  {
   "cell_type": "code",
   "execution_count": 15,
   "id": "17ac040e-b264-4ea4-bca0-89126486e2d9",
   "metadata": {},
   "outputs": [
    {
     "data": {
      "text/plain": [
       "\u001b[1mX = pam"
      ]
     },
     "metadata": {},
     "output_type": "display_data"
    }
   ],
   "source": [
    "?- grandparent(X, pat)."
   ]
  },
  {
   "cell_type": "code",
   "execution_count": 16,
   "id": "00782d55-30af-43f7-824b-8822f1401cc3",
   "metadata": {},
   "outputs": [
    {
     "data": {
      "text/plain": [
       "% Retrying goal: grandparent(X,pat)\n"
      ]
     },
     "metadata": {},
     "output_type": "display_data"
    },
    {
     "data": {
      "text/plain": [
       "\u001b[1mX = tom"
      ]
     },
     "metadata": {},
     "output_type": "display_data"
    }
   ],
   "source": [
    "?- retry."
   ]
  },
  {
   "cell_type": "code",
   "execution_count": 17,
   "id": "f506e9f9-4c99-4185-8665-328fc90b874f",
   "metadata": {},
   "outputs": [
    {
     "data": {
      "text/plain": [
       "\u001b[1mX = bob"
      ]
     },
     "metadata": {},
     "output_type": "display_data"
    }
   ],
   "source": [
    "?- grandparent(X, jim)."
   ]
  },
  {
   "cell_type": "markdown",
   "id": "b2a61e4e-bb57-4f70-a240-a208dd55687e",
   "metadata": {},
   "source": [
    "### La relación hermana:"
   ]
  },
  {
   "cell_type": "code",
   "execution_count": 19,
   "id": "8133a48a-0baa-429e-81f9-380a6edfd854",
   "metadata": {},
   "outputs": [
    {
     "data": {
      "text/plain": [
       "% Asserting clauses for user:sister/2\n"
      ]
     },
     "metadata": {},
     "output_type": "display_data"
    }
   ],
   "source": [
    "% tu código aquí:\n",
    "sister(X,Y) :-  \n",
    "          parent(Z,X),\n",
    "          parent(Z,Y),\n",
    "          female(X),\n",
    "          X \\= Y."
   ]
  },
  {
   "cell_type": "code",
   "execution_count": 20,
   "id": "61f05e02-4d9c-42e0-9e05-caee2fbe8540",
   "metadata": {},
   "outputs": [
    {
     "data": {
      "text/plain": [
       "\u001b[1mX = ann"
      ]
     },
     "metadata": {},
     "output_type": "display_data"
    }
   ],
   "source": [
    "?- sister(X, pat)."
   ]
  },
  {
   "cell_type": "code",
   "execution_count": 21,
   "id": "af7ec1a7-eb1f-4032-9109-bb57cbc9d72f",
   "metadata": {},
   "outputs": [
    {
     "data": {
      "text/plain": [
       "\u001b[1mX = liz"
      ]
     },
     "metadata": {},
     "output_type": "display_data"
    }
   ],
   "source": [
    "?- sister(X, bob)."
   ]
  },
  {
   "cell_type": "code",
   "execution_count": null,
   "id": "405e6ce3-6d91-4bbb-aed9-39854df5653f",
   "metadata": {},
   "outputs": [],
   "source": []
  }
 ],
 "metadata": {
  "kernelspec": {
   "display_name": "Prolog",
   "language": "prolog",
   "name": "prolog_kernel"
  },
  "language_info": {
   "codemirror_mode": "prolog",
   "file_extension": ".pl",
   "mimetype": "text/x-prolog",
   "name": "Prolog"
  }
 },
 "nbformat": 4,
 "nbformat_minor": 5
}
