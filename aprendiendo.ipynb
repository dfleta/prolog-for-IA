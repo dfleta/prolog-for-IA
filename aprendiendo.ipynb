{
 "cells": [
  {
   "cell_type": "code",
   "execution_count": null,
   "id": "45cfcc8a-1b45-4995-86da-8551f13cb39c",
   "metadata": {},
   "outputs": [],
   "source": [
    "% Offspring.pl\n",
    "\n",
    "parent(pam, bob).       % Pam is a parent of Bob\n",
    "\n",
    "parent(tom, bob).\n",
    "\n",
    "parent(tom, liz).\n",
    "\n",
    "parent(bob, ann).\n",
    "\n",
    "parent(bob, pat).\n",
    "\n",
    "parent(pat, jim).\n",
    "\n",
    "\n",
    "male(tom).              % Tom is male\n",
    "\n",
    "male(bob).\n",
    "\n",
    "male(jim).\n",
    "\n",
    "female(pam).            % Pam is female\n",
    "\n",
    "female(liz).\n",
    "\n",
    "female(ann).\n",
    "\n",
    "female(pat).\n",
    "\n",
    "\n",
    "offspring(Y, X) :-     % Y is an offspring of X if\n",
    "\n",
    "   parent(X, Y).        % X is a parent of Y\n",
    "\n",
    "\n",
    "mother(X, Y) :-        % X is the mother of Y if\n",
    "\n",
    "   parent(X, Y),        % X is a parent of Y and\n",
    "\n",
    "   female(X).           % X is female\n",
    "\n",
    "\n",
    "grandparent(X, Z) :-   % X is a grandparent of Z if\n",
    "\n",
    "   parent(X, Y),        % X is a parent of Y and\n",
    "\n",
    "   parent(Y, Z).        % Y is a parent of Z\n",
    "\n",
    "\n",
    "sister(X, Y) :-        % X is a sister of Y if\n",
    "\n",
    "   parent(Z, X),\n",
    "\n",
    "   parent(Z, Y),        % X and Y have the same parent and\n",
    "\n",
    "   female(X),           % X is female and\n",
    "\n",
    "   different(X, Y).     % X and Y are different\n",
    "\n",
    "\n",
    "different(X, Y) :-\n",
    "    X\\==Y.\n",
    "\n",
    "predecessor(X, Z)  :-   % Rule prl: X is a predecessor of Z\n",
    "\n",
    "   parent(X, Z).\n",
    "\n",
    "\n",
    "predecessor(X, Z)  :-   % Rule pr2: X is a predecessor of Z\n",
    "\n",
    "   parent(X, Y),\n",
    "\n",
    "   predecessor(Y, Z)."
   ]
  },
  {
   "cell_type": "code",
   "execution_count": 39,
   "id": "5f309f20-b32d-4648-91df-59d38d725d93",
   "metadata": {},
   "outputs": [
    {
     "data": {
      "text/plain": [
       "\u001b[1mX = pam,\n",
       "Y = bob"
      ]
     },
     "metadata": {},
     "output_type": "display_data"
    }
   ],
   "source": [
    "?- parent(X,Y)."
   ]
  },
  {
   "cell_type": "code",
   "execution_count": 40,
   "id": "343672b6-2924-459e-98f5-df84a5813dfa",
   "metadata": {},
   "outputs": [
    {
     "data": {
      "text/plain": [
       "% Retrying goal: parent(X,Y)\n"
      ]
     },
     "metadata": {},
     "output_type": "display_data"
    },
    {
     "data": {
      "text/plain": [
       "\u001b[1mX = tom,\n",
       "Y = bob"
      ]
     },
     "metadata": {},
     "output_type": "display_data"
    }
   ],
   "source": [
    "jupyter:retry."
   ]
  },
  {
   "cell_type": "code",
   "execution_count": 41,
   "id": "a82f23f5-be40-46a2-b85d-c74c6be3c8f7",
   "metadata": {},
   "outputs": [
    {
     "data": {
      "text/plain": [
       "->  parent(X,Y)\n",
       "    descendiente(X,Y)\n",
       "    descendiente(bob,tom)\n",
       "    padre(X,Y)\n",
       "    fact(c)\n",
       "    descendiente(X,Y)\n",
       "    descendiente(bob,tom)\n",
       "    padre(X,Y)\n",
       "    fact(c)\n",
       "    descendiente(X,Y)\n",
       "    descendiente(bob,tom)\n",
       "    padre(X,Y)\n",
       "    padre(X,Y)\n",
       "    padre(X,Y)\n",
       "    padre(X,Y)\n",
       "    fact(c)\n",
       "    listing(fact/1)\n",
       "    listing(fact)\n",
       "    listing(fact/1)"
      ]
     },
     "metadata": {},
     "output_type": "display_data"
    },
    {
     "data": {
      "text/plain": [
       "\u001b[1mtrue"
      ]
     },
     "metadata": {},
     "output_type": "display_data"
    }
   ],
   "source": [
    "jupyter:print_stack"
   ]
  },
  {
   "cell_type": "code",
   "execution_count": null,
   "id": "accbee3f-b1df-467d-85ca-dc0b2e380644",
   "metadata": {},
   "outputs": [],
   "source": [
    "descendiente(Y, X) :- padre(X, Y).\n",
    "?- descendiente(bob, tom)."
   ]
  },
  {
   "cell_type": "code",
   "execution_count": null,
   "id": "f2c0c3a5-a18c-4f43-ac71-03764121d31e",
   "metadata": {},
   "outputs": [],
   "source": [
    "?- descendiente(X, Y)."
   ]
  },
  {
   "cell_type": "markdown",
   "id": "a219e252-cf72-4f31-aa29-2cb5e2775782",
   "metadata": {},
   "source": [
    "1. Con la definición de la relación padre de la transparencia 5, cuál es la respuesta de Prolog a las cuestiones:\n",
    "a) padre(jim, X).\n",
    "b) padre(pam, X), padre(X, pat).\n",
    "c) padre(pam, X), padre(X, Y), padre (Y, jim)."
   ]
  },
  {
   "cell_type": "code",
   "execution_count": 38,
   "id": "5c2c33c3-3713-400f-a119-735ded847d2c",
   "metadata": {},
   "outputs": [],
   "source": [
    "% tu codigo aqui"
   ]
  },
  {
   "cell_type": "markdown",
   "id": "5ee2408b-6199-49bd-be38-44b6ed279c4b",
   "metadata": {},
   "source": [
    "2. Expresa en Prolog:\n",
    "\n",
    " a) Todo el que tiene hijos es feliz"
   ]
  },
  {
   "cell_type": "code",
   "execution_count": null,
   "id": "3fba0d4f-343e-4a8e-84ce-bcf1e0d8ce05",
   "metadata": {},
   "outputs": [],
   "source": [
    "% tu codigo aqui"
   ]
  },
  {
   "cell_type": "markdown",
   "id": "ee4b291d-6fc5-403d-8691-b9caa33790cc",
   "metadata": {},
   "source": [
    "b) La relación nieto usando la relación padre.\n"
   ]
  },
  {
   "cell_type": "code",
   "execution_count": null,
   "id": "08c86a95-a601-4b43-b1e2-5ee31403c18e",
   "metadata": {},
   "outputs": [],
   "source": [
    "% tu codigo aqui"
   ]
  },
  {
   "cell_type": "markdown",
   "id": "616fac1b-faa5-465a-9dee-8c1f719056b2",
   "metadata": {},
   "source": [
    "c) La relación tía usando las relaciones parent y sister de la transparencia 13."
   ]
  },
  {
   "cell_type": "code",
   "execution_count": null,
   "id": "3da59c82-394f-42f5-a2a9-89b686cb9f4a",
   "metadata": {},
   "outputs": [],
   "source": [
    "% tu codigo aqui"
   ]
  },
  {
   "cell_type": "markdown",
   "id": "07b3a0db-fb79-4a7f-8466-5b97c398ccfa",
   "metadata": {},
   "source": [
    "3. Explica cómo encontraría Prolog solución a las siguientes cuestiones, usando el programa de la transparencia 13.\n",
    " - `parent(pam, bob)`\n",
    " - `mother(pam, bob)`\n",
    " - `grandparent(pam, ann)`\n",
    " - `grandparent(bob, jim)`"
   ]
  },
  {
   "cell_type": "code",
   "execution_count": null,
   "id": "07c2e4b9-d024-4ce3-a2de-2dc085ebe7d3",
   "metadata": {},
   "outputs": [],
   "source": []
  }
 ],
 "metadata": {
  "kernelspec": {
   "display_name": "Prolog",
   "language": "prolog",
   "name": "prolog_kernel"
  },
  "language_info": {
   "codemirror_mode": "prolog",
   "file_extension": ".pl",
   "mimetype": "text/x-prolog",
   "name": "Prolog"
  }
 },
 "nbformat": 4,
 "nbformat_minor": 5
}
