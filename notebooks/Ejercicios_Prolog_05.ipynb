{
 "cells": [
  {
   "cell_type": "markdown",
   "id": "0970a213-c303-42d4-a901-5daecb7670c1",
   "metadata": {},
   "source": [
    "1. Haz una propuesta de representación de círculos, rectángulos y cuadrados como objetos Prolog estructurados. Usa una aproximación similar a la que se provee."
   ]
  },
  {
   "cell_type": "markdown",
   "id": "14dda2d4-3a04-4b28-aa62-b782dffc2ce6",
   "metadata": {},
   "source": [
    "![estructuras](../figuras/03_estructuras.png)"
   ]
  },
  {
   "cell_type": "markdown",
   "id": "cc09189a-5cae-454b-9bfb-f471b45a82e8",
   "metadata": {},
   "source": [
    "2. Las siguientes operaciones de emparejamiento (matching), ¿tendrán éxito o fracasarán?. En caso de éxito, indica la instanciación de las variables.\n"
   ]
  },
  {
   "cell_type": "code",
   "execution_count": null,
   "id": "5bdc724a-5d9d-4c26-b140-22d7e066bd79",
   "metadata": {},
   "outputs": [],
   "source": [
    "punto(A,B) = punto(1,2)"
   ]
  },
  {
   "cell_type": "code",
   "execution_count": null,
   "id": "4b352c41-cb28-4b2c-82ae-bcaed5357cdf",
   "metadata": {},
   "outputs": [],
   "source": [
    "punto(A,B) = punto(X,Y,Z)"
   ]
  },
  {
   "cell_type": "code",
   "execution_count": null,
   "id": "2f04b2d9-bf49-4daf-be33-ef1f0201e265",
   "metadata": {},
   "outputs": [],
   "source": [
    "triangulo(punto(-1,0), P2, P3) = triangulo(P1, punto(1,0), punto(0,Y))"
   ]
  },
  {
   "cell_type": "markdown",
   "id": "a9f971fa-0804-4a53-979b-6b2c27bc3583",
   "metadata": {},
   "source": [
    "3. El programa que aparece a continuación indica que dos personas son parientes si:\n",
    " - uno es predecesor del otro \n",
    " - tienen un predecesor en común\n",
    " - tienen un sucesor en común.\n",
    "\n",
    "¿Se podría acortar el programa usando una notación con punto y coma? ¿Cómo?"
   ]
  },
  {
   "cell_type": "code",
   "execution_count": null,
   "id": "5ba0f4d1-b569-4278-8a0e-9eab00512e09",
   "metadata": {},
   "outputs": [],
   "source": [
    "parientes(X, Y) :- predecesor(X, Y). \n",
    "parientes(X, Y) :- predecesor(Y, X). \n",
    "parientes(X, Y) :-\n",
    "    predecesor(Z, X),\n",
    "    predecesor(Z, Y).\n",
    "parientes(X, Y) :-\n",
    "    predecesor(X, Z),\n",
    "    predecesor(Y, Z)."
   ]
  },
  {
   "cell_type": "code",
   "execution_count": null,
   "id": "171a7b11-8dec-4ace-94bb-cef7fc7850bd",
   "metadata": {},
   "outputs": [],
   "source": [
    "predecesor(bob, pat).     % uno es predecesor del otro\n",
    "predecesor(pat, tom).     % uno es predecesor del otro\n",
    "predecesor(bob, ann).     % tienen un predecesor en común\n",
    "predecesor(marie, pat).   % tienen un sucesor en común."
   ]
  },
  {
   "cell_type": "code",
   "execution_count": null,
   "id": "4f35f8ce-8c46-4039-883a-5478cb848bc3",
   "metadata": {},
   "outputs": [],
   "source": [
    "parientes(bob, pat)."
   ]
  },
  {
   "cell_type": "code",
   "execution_count": null,
   "id": "52f661a2-0dc2-45a4-b24d-c700f8900879",
   "metadata": {},
   "outputs": [],
   "source": [
    "parientes(tom, pat)."
   ]
  },
  {
   "cell_type": "code",
   "execution_count": null,
   "id": "9153e543-a33b-4ca2-82a8-f39ddc63dcb1",
   "metadata": {},
   "outputs": [],
   "source": [
    "parientes(pat, ann)."
   ]
  },
  {
   "cell_type": "code",
   "execution_count": null,
   "id": "cea3f680-c684-4dc4-9aa2-ef312270b7cb",
   "metadata": {},
   "outputs": [],
   "source": [
    "parientes(bob, marie)."
   ]
  },
  {
   "cell_type": "code",
   "execution_count": null,
   "id": "4f297995-cb6c-4b43-959e-a3554dec404c",
   "metadata": {},
   "outputs": [],
   "source": [
    "parientes(tom, marie)."
   ]
  },
  {
   "cell_type": "code",
   "execution_count": null,
   "id": "1e73c526-0025-4521-8465-49882ae7e4b6",
   "metadata": {},
   "outputs": [],
   "source": [
    "% tu código aquí\n"
   ]
  },
  {
   "cell_type": "code",
   "execution_count": null,
   "id": "41955707-45f1-4b4f-87c3-1c0629c5ae48",
   "metadata": {},
   "outputs": [],
   "source": [
    "parientes_or(bob, pat)."
   ]
  },
  {
   "cell_type": "code",
   "execution_count": null,
   "id": "634b941a-15a3-4881-85ca-7257a9064f05",
   "metadata": {},
   "outputs": [],
   "source": [
    "?- retry.\n",
    "% false"
   ]
  },
  {
   "cell_type": "code",
   "execution_count": null,
   "id": "2bcddd18-e4bb-4c4e-a25d-1b4ff332bc79",
   "metadata": {},
   "outputs": [],
   "source": [
    "parientes_or(tom, pat)."
   ]
  },
  {
   "cell_type": "code",
   "execution_count": null,
   "id": "5dbb1250-0393-432d-90ba-dd3dd0033f61",
   "metadata": {},
   "outputs": [],
   "source": [
    "parientes_or(pat, ann)."
   ]
  },
  {
   "cell_type": "code",
   "execution_count": null,
   "id": "3d8ec101-07e9-40e6-8480-3eeb6dc06e79",
   "metadata": {},
   "outputs": [],
   "source": [
    "parientes_or(bob, marie)."
   ]
  },
  {
   "cell_type": "code",
   "execution_count": null,
   "id": "ee4a54d6-ea49-4938-b177-b00d46a35066",
   "metadata": {},
   "outputs": [],
   "source": [
    "parientes_or(tom, marie)."
   ]
  }
 ],
 "metadata": {
  "kernelspec": {
   "display_name": "Prolog",
   "language": "prolog",
   "name": "prolog_kernel"
  },
  "language_info": {
   "codemirror_mode": "prolog",
   "file_extension": ".pl",
   "mimetype": "text/x-prolog",
   "name": "Prolog"
  }
 },
 "nbformat": 4,
 "nbformat_minor": 5
}
