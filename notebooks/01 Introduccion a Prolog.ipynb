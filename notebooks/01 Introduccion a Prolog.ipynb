{
 "cells": [
  {
   "cell_type": "markdown",
   "id": "cf518de5",
   "metadata": {},
   "source": [
    "Prolog\n",
    "======\n",
    "## Introducción al lenguaje\n",
    "\n",
    " > Apuntes basados en el capítulo 1 del libro _Prolog Programming for Artificial Intelligence_ de Ivan Bratko, Ed. Pearson, contenido en la bibliografía recomendada del módulo Modelos de Inteligencia Artificial del Curso de Especialización en IA del IES de Teis.\n",
    "\n",
    "Este notebook es una primera versión de mis transparencias. **Utiliza mis apuntes publicados en este mismo repo**.\n",
    "\n",
    "\n",
    "## Contenidos\n",
    "\n",
    "* Prolog\n",
    "* Definir relaciones mediante hechos.\n",
    "* Definir relaciones mediante reglas.\n",
    "* Reglas recursivas.\n",
    "* Cómo Prolog responde cuestiones.\n",
    "* Sentido declarativo y procedimental de los programas.\n",
    "\n",
    "### Definiendo relaciones mediante hechos\n",
    "\n",
    " - Prolog es un lenguaje de programación para computación simbólica, no numérica.\n",
    " - Especialmente adecuado para resolver problemas que involucran objetos y relaciones entre ellos.\n",
    " \n",
    " \n",
    " `padre` es una **relación**\n",
    " \n",
    " `tom` `bob` son **argumentos**\n",
    " \n",
    " `tom` es padre de `bob`\n",
    "  \n",
    "  Este programa consta de seis **cláusulas**\n",
    "  \n",
    "  Cada cláusula declara un **hecho** sobre la relación padre\n",
    "  \n",
    "  `padre(tom,bob)` es una **instancia** de la relación padre\n",
    " "
   ]
  },
  {
   "cell_type": "code",
   "execution_count": null,
   "id": "7a8393c3",
   "metadata": {},
   "outputs": [
    {
     "data": {
      "text/html": [
       "\n",
       "            <style>\n",
       "            details  {\n",
       "              font-family: Menlo, Consolas, 'DejaVu Sans Mono', monospace; font-size: 13px;\n",
       "            }\n",
       "\n",
       "            details > summary {\n",
       "              cursor: pointer;\n",
       "            }\n",
       "            </style>\n",
       "            <details><summary>Previously defined clauses of user:padre/2 were retracted (click to expand)</summary><pre>:- dynamic padre/2.\n",
       "\n",
       "padre(pam, bob).\n",
       "padre(tom, bob).\n",
       "padre(tom, liz).\n",
       "padre(bob, ann).\n",
       "padre(bob, pat).\n",
       "padre(pat, jim).\n",
       "</pre></details>"
      ],
      "text/plain": [
       "Previously defined clauses of user:padre/2 were retracted:\n",
       ":- dynamic padre/2.\n",
       "\n",
       "padre(pam, bob).\n",
       "padre(tom, bob).\n",
       "padre(tom, liz).\n",
       "padre(bob, ann).\n",
       "padre(bob, pat).\n",
       "padre(pat, jim).\n"
      ]
     },
     "metadata": {
      "application/json": {}
     },
     "output_type": "display_data"
    },
    {
     "data": {
      "text/plain": [
       "% Asserting clauses for user:padre/2\n"
      ]
     },
     "metadata": {},
     "output_type": "display_data"
    }
   ],
   "source": [
    "padre(pam,bob).\n",
    "padre(tom,bob).\n",
    "padre(tom,liz).\n",
    "padre(bob,ann).\n",
    "padre(bob,pat).\n",
    "padre(pat,jim)."
   ]
  },
  {
   "cell_type": "markdown",
   "id": "cb5f271b-df83-4b7b-a3f6-4a11305a1d0c",
   "metadata": {},
   "source": [
    "### Definiendo relaciones mediante hechos.\n",
    "Prolog puede contestar preguntas sobre la relación padre.\n",
    "\n",
    "![relaciones](../figuras/01_relaciones.png)"
   ]
  },
  {
   "cell_type": "code",
   "execution_count": null,
   "id": "a2b17c79-17d3-44eb-804c-2e33df5a4771",
   "metadata": {},
   "outputs": [
    {
     "data": {
      "text/plain": [
       "\u001b[1mtrue"
      ]
     },
     "metadata": {},
     "output_type": "display_data"
    }
   ],
   "source": [
    "?- padre(bob,pat). \n",
    "% yes\n"
   ]
  },
  {
   "cell_type": "code",
   "execution_count": null,
   "id": "8d4b1607-752c-4095-8615-c354c82eb0ab",
   "metadata": {},
   "outputs": [
    {
     "data": {
      "text/plain": [
       "\u001b[1;31mfalse"
      ]
     },
     "metadata": {},
     "output_type": "display_data"
    }
   ],
   "source": [
    "?- padre(liz,pat). \n",
    "% no\n"
   ]
  },
  {
   "cell_type": "code",
   "execution_count": null,
   "id": "dd4e23f0-cb57-4c96-ae46-6453dd89de1c",
   "metadata": {},
   "outputs": [],
   "source": [
    "?- padre(X,liz). \n",
    "% X=tom"
   ]
  },
  {
   "cell_type": "code",
   "execution_count": 18,
   "id": "72769595-d498-421f-b419-a09c5b8e4ab5",
   "metadata": {},
   "outputs": [
    {
     "data": {
      "text/plain": [
       "\u001b[1mX = ann"
      ]
     },
     "metadata": {},
     "output_type": "display_data"
    }
   ],
   "source": [
    "?- padre(bob,X).\n",
    "% X=ann X=pat"
   ]
  },
  {
   "cell_type": "code",
   "execution_count": 19,
   "id": "186fce53-037a-4414-8900-b0fbe1d51793",
   "metadata": {},
   "outputs": [
    {
     "data": {
      "text/plain": [
       "\u001b[1mX = pam,\n",
       "Y = bob"
      ]
     },
     "metadata": {},
     "output_type": "display_data"
    }
   ],
   "source": [
    "?- padre(X,Y).\n",
    "% X=pam Y=bob; X=tom Y=bob; X=tom Y=liz;"
   ]
  },
  {
   "cell_type": "code",
   "execution_count": 20,
   "id": "120a4cc0-3a89-4e8c-b2c5-c78ba0a696ca",
   "metadata": {},
   "outputs": [
    {
     "data": {
      "text/plain": [
       "% Retrying goal: padre(X,Y)\n"
      ]
     },
     "metadata": {},
     "output_type": "display_data"
    },
    {
     "data": {
      "text/plain": [
       "\u001b[1mX = tom,\n",
       "Y = bob"
      ]
     },
     "metadata": {},
     "output_type": "display_data"
    }
   ],
   "source": [
    "jupyter:retry."
   ]
  },
  {
   "cell_type": "code",
   "execution_count": 21,
   "id": "90ac5d54-d935-4628-9044-f1b69643aa35",
   "metadata": {},
   "outputs": [
    {
     "data": {
      "text/plain": [
       "% Retrying goal: padre(X,Y)\n"
      ]
     },
     "metadata": {},
     "output_type": "display_data"
    },
    {
     "data": {
      "text/plain": [
       "\u001b[1mX = tom,\n",
       "Y = liz"
      ]
     },
     "metadata": {},
     "output_type": "display_data"
    }
   ],
   "source": [
    "jupyter:retry."
   ]
  },
  {
   "cell_type": "markdown",
   "id": "43fba6d0-ca7a-4635-9250-7a45fcfe6561",
   "metadata": {},
   "source": [
    "### Conclusiones\n",
    " - Una **relación** se define estableciendo las n-tuplas de objetos que satisfacen la relación.\n",
    " - Un programa en Prolog consiste de **clausulas** (terminan con un punto).\n",
    " - Los **argumentos** de las relaciones pueden ser:\n",
    "   - Objetos concretos: tom, pat (átomos)\n",
    "   - Constantes (átomos)\n",
    "   - Objetos genéricos: X, Y (variables)\n",
    " - Las cuestiones consisten en uno o más objetivos. \n",
    " \n",
    "  `padre(X,ann), padre(X,pat)` es la conjunción de los objetivos: \n",
    "   \n",
    "   X es padre de ann y X es padre de pat\n",
    "   \n",
    " - Prolog acepta cuestiones como **objetivos** que han de ser satisfechos."
   ]
  },
  {
   "cell_type": "code",
   "execution_count": 28,
   "id": "62c03625-9ff8-4363-a1c0-3d1ce85a7dd7",
   "metadata": {},
   "outputs": [
    {
     "data": {
      "text/plain": [
       "\u001b[1mX = bob"
      ]
     },
     "metadata": {},
     "output_type": "display_data"
    }
   ],
   "source": [
    "?- padre(X,ann), padre(X,pat)."
   ]
  },
  {
   "cell_type": "markdown",
   "id": "6ea528f9-8d63-4e72-88a6-9407423d1705",
   "metadata": {},
   "source": [
    "### Definiendo relaciones mediante reglas.\n",
    "\n",
    "¿Cómo extender nuestro programa “padre”? p.e. la relación `descendencia`\n",
    "\n",
    " – añadir hecho: `descendencia(liz,tom).` ó\n",
    " \n",
    " – emplear hechos existentes + razonamiento: `descendiente(Y,X):- parent(X,Y).`\n",
    "    \n",
    "    Para todo X e Y,\n",
    "        Y es un descendiente de X si X es padre de Y."
   ]
  },
  {
   "cell_type": "markdown",
   "id": "ee2ef4f9-8f4c-455a-ba4e-fa53cf00376b",
   "metadata": {},
   "source": [
    "regla no es un hecho\n",
    " - Un hecho es siempre cierto.\n",
    " - Una regla especifica algo cierto si alguna condición se satisface.\n",
    "   \n",
    "   `descendiente(Y,X):- parent(X,Y).`\n",
    "    \n",
    "![regla](../figuras/02_regla.png)"
   ]
  },
  {
   "cell_type": "code",
   "execution_count": null,
   "id": "7e53f993-d8fd-489b-b8ca-3368ab5598f5",
   "metadata": {},
   "outputs": [],
   "source": []
  }
 ],
 "metadata": {
  "kernelspec": {
   "display_name": "Prolog",
   "language": "prolog",
   "name": "prolog_kernel"
  },
  "language_info": {
   "codemirror_mode": "prolog",
   "file_extension": ".pl",
   "mimetype": "text/x-prolog",
   "name": "Prolog"
  }
 },
 "nbformat": 4,
 "nbformat_minor": 5
}
