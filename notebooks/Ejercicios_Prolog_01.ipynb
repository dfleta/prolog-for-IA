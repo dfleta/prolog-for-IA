{
 "cells": [
  {
   "cell_type": "markdown",
   "id": "abbc1f40-520a-45e5-97a9-33d7cb97bae7",
   "metadata": {},
   "source": [
    "## Dados los siguientes hechos:"
   ]
  },
  {
   "cell_type": "code",
   "execution_count": 4,
   "id": "002e40fd-1bb0-4f93-957b-70527abf6609",
   "metadata": {},
   "outputs": [
    {
     "data": {
      "text/html": [
       "\n",
       "            <style>\n",
       "            details  {\n",
       "              font-family: Menlo, Consolas, 'DejaVu Sans Mono', monospace; font-size: 13px;\n",
       "            }\n",
       "\n",
       "            details > summary {\n",
       "              cursor: pointer;\n",
       "            }\n",
       "            </style>\n",
       "            <details><summary>Previously defined clauses of user:parent/2 were retracted (click to expand)</summary><pre>:- dynamic parent/2.\n",
       "\n",
       "parent(pam, bob).\n",
       "parent(tom, bob).\n",
       "parent(tom, liz).\n",
       "parent(bob, ann).\n",
       "parent(bob, pat).\n",
       "parent(pat, jim).\n",
       "</pre></details>"
      ],
      "text/plain": [
       "Previously defined clauses of user:parent/2 were retracted:\n",
       ":- dynamic parent/2.\n",
       "\n",
       "parent(pam, bob).\n",
       "parent(tom, bob).\n",
       "parent(tom, liz).\n",
       "parent(bob, ann).\n",
       "parent(bob, pat).\n",
       "parent(pat, jim).\n"
      ]
     },
     "metadata": {
      "application/json": {}
     },
     "output_type": "display_data"
    },
    {
     "data": {
      "text/plain": [
       "% Asserting clauses for user:parent/2\n"
      ]
     },
     "metadata": {},
     "output_type": "display_data"
    }
   ],
   "source": [
    "parent(pam,bob).\n",
    "parent(tom,bob).\n",
    "parent(tom,liz).\n",
    "parent(bob,ann).\n",
    "parent(bob,pat).\n",
    "parent(pat,jim)."
   ]
  },
  {
   "cell_type": "markdown",
   "id": "402f4d6e-43fd-41a9-9b7c-b545b6f3f54d",
   "metadata": {},
   "source": [
    "## Escribe las siguientes cuestiones en Prolog:"
   ]
  },
  {
   "cell_type": "markdown",
   "id": "257c40fa-e68b-48e1-b922-e714d3d394b9",
   "metadata": {},
   "source": [
    "#### ¿Quién es padre de Pat?"
   ]
  },
  {
   "cell_type": "code",
   "execution_count": 5,
   "id": "bf0255fb-13bb-4af6-a542-7dce96b361f3",
   "metadata": {},
   "outputs": [
    {
     "data": {
      "text/plain": [
       "\u001b[1mX = bob"
      ]
     },
     "metadata": {},
     "output_type": "display_data"
    }
   ],
   "source": [
    "% tu código aquí\n",
    "% X = bob\n"
   ]
  },
  {
   "cell_type": "markdown",
   "id": "9d99aad1-cf94-44f1-932f-fd81f2df4c7d",
   "metadata": {},
   "source": [
    "#### ¿Liz tiene un hijo/a?"
   ]
  },
  {
   "cell_type": "code",
   "execution_count": null,
   "id": "787e90b3-7fb0-4184-9f5d-5816a7b016b5",
   "metadata": {},
   "outputs": [
    {
     "data": {
      "text/plain": [
       "\u001b[1;31mfalse"
      ]
     },
     "metadata": {},
     "output_type": "display_data"
    }
   ],
   "source": [
    "% tu código aquí\n",
    "% false\n"
   ]
  },
  {
   "cell_type": "markdown",
   "id": "ce71f095-d94c-49cd-8b7d-ea3a2c9885e0",
   "metadata": {},
   "source": [
    "#### ¿Quién es el abuelo/a de Pat?"
   ]
  },
  {
   "cell_type": "code",
   "execution_count": 10,
   "id": "1adbf805-f853-4a20-9a0d-93c92d8aa827",
   "metadata": {},
   "outputs": [
    {
     "data": {
      "text/plain": [
       "\u001b[1mX = bob,\n",
       "Y = pam"
      ]
     },
     "metadata": {},
     "output_type": "display_data"
    }
   ],
   "source": [
    "% tu código aquí\n",
    "% X = bob, Y = pam\n"
   ]
  },
  {
   "cell_type": "code",
   "execution_count": 11,
   "id": "a8a2d634-bd14-4323-a35f-ee4c05238893",
   "metadata": {},
   "outputs": [
    {
     "data": {
      "text/plain": [
       "% Retrying goal: parent(X,pat),parent(Y,X)\n"
      ]
     },
     "metadata": {},
     "output_type": "display_data"
    },
    {
     "data": {
      "text/plain": [
       "\u001b[1mX = bob,\n",
       "Y = tom"
      ]
     },
     "metadata": {},
     "output_type": "display_data"
    }
   ],
   "source": [
    "?- retry.\n",
    "% X = bob, Y = tom"
   ]
  }
 ],
 "metadata": {
  "kernelspec": {
   "display_name": "Prolog",
   "language": "prolog",
   "name": "prolog_kernel"
  },
  "language_info": {
   "codemirror_mode": "prolog",
   "file_extension": ".pl",
   "mimetype": "text/x-prolog",
   "name": "Prolog"
  }
 },
 "nbformat": 4,
 "nbformat_minor": 5
}
