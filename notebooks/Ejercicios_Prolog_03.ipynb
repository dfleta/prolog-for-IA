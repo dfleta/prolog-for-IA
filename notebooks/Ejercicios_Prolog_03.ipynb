{
 "cells": [
  {
   "cell_type": "markdown",
   "id": "c98e659f-19f7-4f78-981e-916ef731d63b",
   "metadata": {},
   "source": [
    "## Dados los hechos y las reglas:"
   ]
  },
  {
   "cell_type": "code",
   "execution_count": 1,
   "id": "28dfa58b-2a66-462f-a4bc-1dc891471ccb",
   "metadata": {},
   "outputs": [
    {
     "data": {
      "text/plain": [
       "% Asserting clauses for user:female/1\n"
      ]
     },
     "metadata": {},
     "output_type": "display_data"
    },
    {
     "data": {
      "text/plain": [
       "% Asserting clauses for user:male/1\n"
      ]
     },
     "metadata": {},
     "output_type": "display_data"
    },
    {
     "data": {
      "text/plain": [
       "% Asserting clauses for user:parent/2\n"
      ]
     },
     "metadata": {},
     "output_type": "display_data"
    }
   ],
   "source": [
    "% hechos\n",
    "\n",
    "female(pam).\n",
    "female(liz).\n",
    "female(pat).\n",
    "female(ann).\n",
    "\n",
    "male(tom).\n",
    "male(bob).\n",
    "male(jim).\n",
    "\n",
    "parent(pam,bob).\n",
    "parent(tom,bob).\n",
    "parent(tom,liz).\n",
    "parent(bob,ann).\n",
    "parent(bob,pat).\n",
    "parent(pat,jim)."
   ]
  },
  {
   "cell_type": "code",
   "execution_count": 2,
   "id": "a2eb7d4e-efbe-4723-8ae3-45c775c28b2c",
   "metadata": {},
   "outputs": [
    {
     "data": {
      "text/plain": [
       "% Asserting clauses for user:mother/2\n"
      ]
     },
     "metadata": {},
     "output_type": "display_data"
    },
    {
     "data": {
      "text/plain": [
       "% Asserting clauses for user:grandparent/2\n"
      ]
     },
     "metadata": {},
     "output_type": "display_data"
    },
    {
     "data": {
      "text/plain": [
       "% Asserting clauses for user:sister/2\n"
      ]
     },
     "metadata": {},
     "output_type": "display_data"
    }
   ],
   "source": [
    "% reglas\n",
    "\n",
    "mother(X,Y) :- \n",
    "        parent(X,Y),\n",
    "        female(X).\n",
    "\n",
    "grandparent(X,Z) :- \n",
    "        parent(X,Y),\n",
    "        parent(Y,Z).\n",
    "\n",
    "sister(X,Y) :-  \n",
    "          parent(Z,X),\n",
    "          parent(Z,Y),\n",
    "          female(X),\n",
    "          X \\= Y."
   ]
  },
  {
   "cell_type": "markdown",
   "id": "9840ca80-0b3a-4bae-bb2f-f423cfe9ef0d",
   "metadata": {},
   "source": [
    "## Escribe en Prolog:"
   ]
  },
  {
   "cell_type": "markdown",
   "id": "3113340b-601f-4975-a82b-33cc67a8c2b4",
   "metadata": {},
   "source": [
    "### Toda persona que tiene un hijo/a es feliz:"
   ]
  },
  {
   "cell_type": "code",
   "execution_count": 22,
   "id": "5f54030f-ef03-4c1a-9ce6-e32037904784",
   "metadata": {},
   "outputs": [
    {
     "data": {
      "text/html": [
       "\n",
       "            <style>\n",
       "            details  {\n",
       "              font-family: Menlo, Consolas, 'DejaVu Sans Mono', monospace; font-size: 13px;\n",
       "            }\n",
       "\n",
       "            details > summary {\n",
       "              cursor: pointer;\n",
       "            }\n",
       "            </style>\n",
       "            <details><summary>Previously defined clauses of user:happy/1 were retracted (click to expand)</summary><pre>:- dynamic happy/1.\n",
       "\n",
       "happy(A) :-\n",
       "    (   parent(A, _)\n",
       "    ;   mother(A, _)\n",
       "    ).\n",
       "</pre></details>"
      ],
      "text/plain": [
       "Previously defined clauses of user:happy/1 were retracted:\n",
       ":- dynamic happy/1.\n",
       "\n",
       "happy(A) :-\n",
       "    (   parent(A, _)\n",
       "    ;   mother(A, _)\n",
       "    ).\n"
      ]
     },
     "metadata": {
      "application/json": {}
     },
     "output_type": "display_data"
    },
    {
     "data": {
      "text/plain": [
       "% Asserting clauses for user:happy/1\n"
      ]
     },
     "metadata": {},
     "output_type": "display_data"
    }
   ],
   "source": [
    "% tu código aquí\n"
   ]
  },
  {
   "cell_type": "code",
   "execution_count": 23,
   "id": "95f79dcd-d275-459e-9347-607b71a7b93f",
   "metadata": {},
   "outputs": [
    {
     "data": {
      "text/plain": [
       "\u001b[1mX = pam"
      ]
     },
     "metadata": {},
     "output_type": "display_data"
    }
   ],
   "source": [
    "?- happy(X)."
   ]
  },
  {
   "cell_type": "code",
   "execution_count": 24,
   "id": "d03fb47d-a30e-4f87-b0ae-eecd7d780ec9",
   "metadata": {},
   "outputs": [
    {
     "data": {
      "text/plain": [
       "% Retrying goal: happy(X)\n"
      ]
     },
     "metadata": {},
     "output_type": "display_data"
    },
    {
     "data": {
      "text/plain": [
       "\u001b[1mX = tom"
      ]
     },
     "metadata": {},
     "output_type": "display_data"
    }
   ],
   "source": [
    "?- retry."
   ]
  },
  {
   "cell_type": "code",
   "execution_count": 25,
   "id": "4212579a-8c50-4434-b43e-289e159b1ddf",
   "metadata": {},
   "outputs": [
    {
     "data": {
      "text/plain": [
       "% Retrying goal: happy(X)\n"
      ]
     },
     "metadata": {},
     "output_type": "display_data"
    },
    {
     "data": {
      "text/plain": [
       "\u001b[1mX = tom"
      ]
     },
     "metadata": {},
     "output_type": "display_data"
    }
   ],
   "source": [
    "?- retry."
   ]
  },
  {
   "cell_type": "code",
   "execution_count": 26,
   "id": "9b47cd2c-02f2-4dcf-b649-e6046f1d83d0",
   "metadata": {},
   "outputs": [
    {
     "data": {
      "text/plain": [
       "% Retrying goal: happy(X)\n"
      ]
     },
     "metadata": {},
     "output_type": "display_data"
    },
    {
     "data": {
      "text/plain": [
       "\u001b[1mX = bob"
      ]
     },
     "metadata": {},
     "output_type": "display_data"
    }
   ],
   "source": [
    "?- retry."
   ]
  },
  {
   "cell_type": "code",
   "execution_count": 27,
   "id": "874cd2e8-d54c-4410-9666-dd2122b1b3de",
   "metadata": {},
   "outputs": [
    {
     "data": {
      "text/plain": [
       "% Retrying goal: happy(X)\n"
      ]
     },
     "metadata": {},
     "output_type": "display_data"
    },
    {
     "data": {
      "text/plain": [
       "\u001b[1mX = bob"
      ]
     },
     "metadata": {},
     "output_type": "display_data"
    }
   ],
   "source": [
    "?- retry."
   ]
  },
  {
   "cell_type": "code",
   "execution_count": 28,
   "id": "381eef26-f629-4c75-b0e8-735f9930e451",
   "metadata": {},
   "outputs": [
    {
     "data": {
      "text/plain": [
       "% Retrying goal: happy(X)\n"
      ]
     },
     "metadata": {},
     "output_type": "display_data"
    },
    {
     "data": {
      "text/plain": [
       "\u001b[1mX = pat"
      ]
     },
     "metadata": {},
     "output_type": "display_data"
    }
   ],
   "source": [
    "% mother\n",
    "?- retry."
   ]
  },
  {
   "cell_type": "code",
   "execution_count": 29,
   "id": "d1c07376-443e-4797-831f-449c09ad4ed9",
   "metadata": {},
   "outputs": [
    {
     "data": {
      "text/plain": [
       "% Retrying goal: happy(X)\n"
      ]
     },
     "metadata": {},
     "output_type": "display_data"
    },
    {
     "data": {
      "text/plain": [
       "\u001b[1mX = pam"
      ]
     },
     "metadata": {},
     "output_type": "display_data"
    }
   ],
   "source": [
    "% mother\n",
    "?- retry."
   ]
  },
  {
   "cell_type": "markdown",
   "id": "515e2fcc-3b2a-4829-89a0-dd6b2b082bd7",
   "metadata": {},
   "source": [
    "### Para todo X, si X tiene un hijo/a que tiene una hermana, entonces X tiene dos hijos /as."
   ]
  },
  {
   "cell_type": "code",
   "execution_count": 11,
   "id": "6a9558e0-d9f7-4090-942b-86ab5f35b504",
   "metadata": {},
   "outputs": [
    {
     "data": {
      "text/plain": [
       "% Asserting clauses for user:hasTwoChildren/1\n"
      ]
     },
     "metadata": {},
     "output_type": "display_data"
    }
   ],
   "source": [
    "% tu código aquí\n"
   ]
  },
  {
   "cell_type": "code",
   "execution_count": null,
   "id": "0606c217-646f-4ad6-a66c-dc242f597da3",
   "metadata": {},
   "outputs": [
    {
     "data": {
      "text/plain": [
       "\u001b[1mtrue"
      ]
     },
     "metadata": {},
     "output_type": "display_data"
    },
    {
     "data": {
      "text/plain": [
       "\u001b[1mtrue"
      ]
     },
     "metadata": {},
     "output_type": "display_data"
    },
    {
     "data": {
      "text/plain": [
       "\u001b[1;31mfalse"
      ]
     },
     "metadata": {},
     "output_type": "display_data"
    }
   ],
   "source": [
    "?- hasTwoChildren(bob). % true\n",
    "?- hasTwoChildren(tom). % true\n",
    "?- hasTwoChildren(pam). % false"
   ]
  },
  {
   "cell_type": "markdown",
   "id": "b2bc353d-0ba6-4c87-8215-dc7b1eed0d29",
   "metadata": {},
   "source": [
    "### Define la relacion nieto usando la relación padre."
   ]
  },
  {
   "cell_type": "code",
   "execution_count": 13,
   "id": "6f0520ae-ae24-40bb-9d17-af57073dd243",
   "metadata": {},
   "outputs": [
    {
     "data": {
      "text/plain": [
       "% Asserting clauses for user:grandchild/2\n"
      ]
     },
     "metadata": {},
     "output_type": "display_data"
    }
   ],
   "source": [
    "% tu código aquí\n"
   ]
  },
  {
   "cell_type": "code",
   "execution_count": null,
   "id": "3c86782b-27ff-479b-bded-31702386a147",
   "metadata": {},
   "outputs": [
    {
     "data": {
      "text/plain": [
       "\u001b[1mtrue"
      ]
     },
     "metadata": {},
     "output_type": "display_data"
    },
    {
     "data": {
      "text/plain": [
       "\u001b[1mtrue"
      ]
     },
     "metadata": {},
     "output_type": "display_data"
    },
    {
     "data": {
      "text/plain": [
       "\u001b[1;31mfalse"
      ]
     },
     "metadata": {},
     "output_type": "display_data"
    }
   ],
   "source": [
    "?- grandchild(ann, pam). % true\n",
    "?- grandchild(jim, bob). % true\n",
    "?- grandchild(jim, tom). % false"
   ]
  },
  {
   "cell_type": "markdown",
   "id": "fc3d2c26-b310-4cf4-b024-fac12bbe46c1",
   "metadata": {},
   "source": [
    "### Define la relacion tía en términos de la relación padre y hermana."
   ]
  },
  {
   "cell_type": "code",
   "execution_count": 15,
   "id": "4ddc5486-8b4e-43aa-acb6-bdb8adcb8f41",
   "metadata": {},
   "outputs": [
    {
     "data": {
      "text/plain": [
       "% Asserting clauses for user:aunt/2\n"
      ]
     },
     "metadata": {},
     "output_type": "display_data"
    }
   ],
   "source": [
    "% tu código aquí\n"
   ]
  },
  {
   "cell_type": "code",
   "execution_count": 16,
   "id": "bd3cb6d0-cdd8-466c-99a9-4a32bde5d984",
   "metadata": {},
   "outputs": [
    {
     "data": {
      "text/plain": [
       "\u001b[1mtrue"
      ]
     },
     "metadata": {},
     "output_type": "display_data"
    },
    {
     "data": {
      "text/plain": [
       "\u001b[1mtrue"
      ]
     },
     "metadata": {},
     "output_type": "display_data"
    },
    {
     "data": {
      "text/plain": [
       "\u001b[1mtrue"
      ]
     },
     "metadata": {},
     "output_type": "display_data"
    }
   ],
   "source": [
    "?- aunt(ann, jim). % true\n",
    "?- aunt(liz, pat). % true\n",
    "?- aunt(liz, ann). % true"
   ]
  },
  {
   "cell_type": "code",
   "execution_count": 17,
   "id": "6f267798-ebad-418b-9009-958d4320b0a5",
   "metadata": {},
   "outputs": [
    {
     "data": {
      "text/plain": [
       "\u001b[1mX = liz,\n",
       "Y = ann"
      ]
     },
     "metadata": {},
     "output_type": "display_data"
    }
   ],
   "source": [
    "?- aunt(X, Y)."
   ]
  },
  {
   "cell_type": "code",
   "execution_count": 18,
   "id": "c8981c41-3230-4ee0-92ed-5ed4b3820d62",
   "metadata": {},
   "outputs": [
    {
     "data": {
      "text/plain": [
       "% Retrying goal: aunt(X,Y)\n"
      ]
     },
     "metadata": {},
     "output_type": "display_data"
    },
    {
     "data": {
      "text/plain": [
       "\u001b[1mX = liz,\n",
       "Y = pat"
      ]
     },
     "metadata": {},
     "output_type": "display_data"
    }
   ],
   "source": [
    "?- retry."
   ]
  },
  {
   "cell_type": "code",
   "execution_count": 19,
   "id": "89ec747d-8561-4be3-9b1e-30ca0488d2f3",
   "metadata": {},
   "outputs": [
    {
     "data": {
      "text/plain": [
       "% Retrying goal: aunt(X,Y)\n"
      ]
     },
     "metadata": {},
     "output_type": "display_data"
    },
    {
     "data": {
      "text/plain": [
       "\u001b[1mX = ann,\n",
       "Y = jim"
      ]
     },
     "metadata": {},
     "output_type": "display_data"
    }
   ],
   "source": [
    "?- retry."
   ]
  }
 ],
 "metadata": {
  "kernelspec": {
   "display_name": "Prolog",
   "language": "prolog",
   "name": "prolog_kernel"
  },
  "language_info": {
   "codemirror_mode": "prolog",
   "file_extension": ".pl",
   "mimetype": "text/x-prolog",
   "name": "Prolog"
  }
 },
 "nbformat": 4,
 "nbformat_minor": 5
}
